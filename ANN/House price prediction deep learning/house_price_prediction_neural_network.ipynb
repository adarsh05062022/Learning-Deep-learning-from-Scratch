{
  "metadata": {
    "kernelspec": {
      "language": "python",
      "display_name": "Python 3",
      "name": "python3"
    },
    "language_info": {
      "name": "python",
      "version": "3.11.13",
      "mimetype": "text/x-python",
      "codemirror_mode": {
        "name": "ipython",
        "version": 3
      },
      "pygments_lexer": "ipython3",
      "nbconvert_exporter": "python",
      "file_extension": ".py"
    },
    "kaggle": {
      "accelerator": "none",
      "dataSources": [
        {
          "sourceId": 9334344,
          "sourceType": "datasetVersion",
          "datasetId": 5656167
        }
      ],
      "dockerImageVersionId": 31089,
      "isInternetEnabled": true,
      "language": "python",
      "sourceType": "notebook",
      "isGpuEnabled": false
    },
    "colab": {
      "provenance": []
    }
  },
  "nbformat_minor": 0,
  "nbformat": 4,
  "cells": [
    {
      "cell_type": "code",
      "source": [
        "from google.colab import drive\n",
        "drive.mount('/content/drive')"
      ],
      "metadata": {
        "colab": {
          "base_uri": "https://localhost:8080/"
        },
        "id": "iITGxOnoMtOg",
        "outputId": "66d28472-7823-47a5-9291-27f8dd480f88"
      },
      "execution_count": 1,
      "outputs": [
        {
          "output_type": "stream",
          "name": "stdout",
          "text": [
            "Mounted at /content/drive\n"
          ]
        }
      ]
    },
    {
      "cell_type": "code",
      "source": [
        "\n",
        "import numpy as np # linear algebra\n",
        "import pandas as pd # data processing, CSV file I/O (e.g. pd.read_csv)\n",
        "\n"
      ],
      "metadata": {
        "_uuid": "8f2839f25d086af736a60e9eeb907d3b93b6e0e5",
        "_cell_guid": "b1076dfc-b9ad-4769-8c92-a6c4dae69d19",
        "trusted": true,
        "execution": {
          "iopub.status.busy": "2025-09-09T07:00:16.413857Z",
          "iopub.execute_input": "2025-09-09T07:00:16.414192Z",
          "iopub.status.idle": "2025-09-09T07:00:16.437244Z",
          "shell.execute_reply.started": "2025-09-09T07:00:16.414167Z",
          "shell.execute_reply": "2025-09-09T07:00:16.436283Z"
        },
        "id": "GS6KcK8MLrDV"
      },
      "outputs": [],
      "execution_count": 2
    },
    {
      "cell_type": "code",
      "source": [
        "df = pd.read_csv(\"/content/drive/MyDrive/house_price_regression_dataset.csv\")"
      ],
      "metadata": {
        "trusted": true,
        "execution": {
          "iopub.status.busy": "2025-09-09T07:00:19.085175Z",
          "iopub.execute_input": "2025-09-09T07:00:19.085471Z",
          "iopub.status.idle": "2025-09-09T07:00:19.095004Z",
          "shell.execute_reply.started": "2025-09-09T07:00:19.085452Z",
          "shell.execute_reply": "2025-09-09T07:00:19.094089Z"
        },
        "id": "2yGIS-PyLrDe"
      },
      "outputs": [],
      "execution_count": 3
    },
    {
      "cell_type": "code",
      "source": [
        "df.info()"
      ],
      "metadata": {
        "trusted": true,
        "execution": {
          "iopub.status.busy": "2025-09-09T07:00:23.726815Z",
          "iopub.execute_input": "2025-09-09T07:00:23.727168Z",
          "iopub.status.idle": "2025-09-09T07:00:23.745372Z",
          "shell.execute_reply.started": "2025-09-09T07:00:23.727144Z",
          "shell.execute_reply": "2025-09-09T07:00:23.744376Z"
        },
        "colab": {
          "base_uri": "https://localhost:8080/"
        },
        "id": "8M20bikLLrDf",
        "outputId": "d09ebac7-f699-4704-a46d-d291fecaec15"
      },
      "outputs": [
        {
          "output_type": "stream",
          "name": "stdout",
          "text": [
            "<class 'pandas.core.frame.DataFrame'>\n",
            "RangeIndex: 1000 entries, 0 to 999\n",
            "Data columns (total 8 columns):\n",
            " #   Column                Non-Null Count  Dtype  \n",
            "---  ------                --------------  -----  \n",
            " 0   Square_Footage        1000 non-null   int64  \n",
            " 1   Num_Bedrooms          1000 non-null   int64  \n",
            " 2   Num_Bathrooms         1000 non-null   int64  \n",
            " 3   Year_Built            1000 non-null   int64  \n",
            " 4   Lot_Size              1000 non-null   float64\n",
            " 5   Garage_Size           1000 non-null   int64  \n",
            " 6   Neighborhood_Quality  1000 non-null   int64  \n",
            " 7   House_Price           1000 non-null   float64\n",
            "dtypes: float64(2), int64(6)\n",
            "memory usage: 62.6 KB\n"
          ]
        }
      ],
      "execution_count": 4
    },
    {
      "cell_type": "code",
      "source": [
        "X = df.drop(\"House_Price\",axis = 1).values\n",
        "y = df[\"House_Price\"].values"
      ],
      "metadata": {
        "trusted": true,
        "execution": {
          "iopub.status.busy": "2025-09-09T07:00:31.801128Z",
          "iopub.execute_input": "2025-09-09T07:00:31.801432Z",
          "iopub.status.idle": "2025-09-09T07:00:31.807332Z",
          "shell.execute_reply.started": "2025-09-09T07:00:31.801412Z",
          "shell.execute_reply": "2025-09-09T07:00:31.806292Z"
        },
        "id": "-KlnCmXxLrDg"
      },
      "outputs": [],
      "execution_count": 5
    },
    {
      "cell_type": "code",
      "source": [
        "X.shape"
      ],
      "metadata": {
        "trusted": true,
        "execution": {
          "iopub.status.busy": "2025-09-09T07:00:38.752763Z",
          "iopub.execute_input": "2025-09-09T07:00:38.753166Z",
          "iopub.status.idle": "2025-09-09T07:00:38.760619Z",
          "shell.execute_reply.started": "2025-09-09T07:00:38.753135Z",
          "shell.execute_reply": "2025-09-09T07:00:38.759543Z"
        },
        "id": "AOeSIAJULrDh",
        "outputId": "ab7241d4-02b5-4843-e5d7-c76f214023f4"
      },
      "outputs": [
        {
          "execution_count": 114,
          "output_type": "execute_result",
          "data": {
            "text/plain": "(1000, 7)"
          },
          "metadata": {}
        }
      ],
      "execution_count": null
    },
    {
      "cell_type": "code",
      "source": [
        "y.shape"
      ],
      "metadata": {
        "trusted": true,
        "execution": {
          "iopub.status.busy": "2025-09-09T07:00:40.753495Z",
          "iopub.execute_input": "2025-09-09T07:00:40.754187Z",
          "iopub.status.idle": "2025-09-09T07:00:40.759649Z",
          "shell.execute_reply.started": "2025-09-09T07:00:40.754161Z",
          "shell.execute_reply": "2025-09-09T07:00:40.758593Z"
        },
        "id": "imnc3b1KLrDi",
        "outputId": "99619574-10d9-4dd1-af57-ce693f2ec33f"
      },
      "outputs": [
        {
          "execution_count": 115,
          "output_type": "execute_result",
          "data": {
            "text/plain": "(1000,)"
          },
          "metadata": {}
        }
      ],
      "execution_count": null
    },
    {
      "cell_type": "code",
      "source": [
        "X"
      ],
      "metadata": {
        "trusted": true,
        "execution": {
          "iopub.status.busy": "2025-09-09T07:00:42.835110Z",
          "iopub.execute_input": "2025-09-09T07:00:42.835952Z",
          "iopub.status.idle": "2025-09-09T07:00:42.842387Z",
          "shell.execute_reply.started": "2025-09-09T07:00:42.835904Z",
          "shell.execute_reply": "2025-09-09T07:00:42.841108Z"
        },
        "id": "QKfq1RHlLrDj",
        "outputId": "d1c79e8f-0d0b-4b05-ed5f-5ad5173d3dc7"
      },
      "outputs": [
        {
          "execution_count": 116,
          "output_type": "execute_result",
          "data": {
            "text/plain": "array([[1.36000000e+03, 2.00000000e+00, 1.00000000e+00, ...,\n        5.99636640e-01, 0.00000000e+00, 5.00000000e+00],\n       [4.27200000e+03, 3.00000000e+00, 3.00000000e+00, ...,\n        4.75301385e+00, 1.00000000e+00, 6.00000000e+00],\n       [3.59200000e+03, 1.00000000e+00, 2.00000000e+00, ...,\n        3.63482272e+00, 0.00000000e+00, 9.00000000e+00],\n       ...,\n       [2.60600000e+03, 4.00000000e+00, 2.00000000e+00, ...,\n        4.05506679e+00, 0.00000000e+00, 2.00000000e+00],\n       [4.72300000e+03, 5.00000000e+00, 2.00000000e+00, ...,\n        1.93092148e+00, 0.00000000e+00, 7.00000000e+00],\n       [3.26800000e+03, 4.00000000e+00, 2.00000000e+00, ...,\n        3.10879025e+00, 2.00000000e+00, 2.00000000e+00]])"
          },
          "metadata": {}
        }
      ],
      "execution_count": null
    },
    {
      "cell_type": "markdown",
      "source": [
        "# normalizing the dataset\n",
        "\n",
        "\n"
      ],
      "metadata": {
        "id": "bnvjPttULrDk"
      }
    },
    {
      "cell_type": "code",
      "source": [
        "from sklearn.preprocessing import StandardScaler\n",
        "from sklearn.model_selection import train_test_split\n",
        "\n",
        "# Split before scaling (to avoid data leakage)\n",
        "X_train, X_test, y_train, y_test = train_test_split(\n",
        "    X, y, test_size=0.2, random_state=42, shuffle=True\n",
        ")\n",
        "\n",
        "\n",
        "# Scale features\n",
        "scaler_X = StandardScaler()\n",
        "X_train = scaler_X.fit_transform(X_train)\n",
        "X_test = scaler_X.transform(X_test)\n",
        "\n",
        "# Reshape target to 2D (n_samples, 1)\n",
        "y_train = y_train.reshape(-1, 1)\n",
        "y_test = y_test.reshape(-1, 1)\n",
        "\n",
        "# Scale targets\n",
        "scaler_y = StandardScaler()\n",
        "y_train_scaled = scaler_y.fit_transform(y_train)\n",
        "y_test_scaled = scaler_y.transform(y_test)"
      ],
      "metadata": {
        "trusted": true,
        "execution": {
          "iopub.status.busy": "2025-09-09T07:10:29.496271Z",
          "iopub.execute_input": "2025-09-09T07:10:29.496618Z",
          "iopub.status.idle": "2025-09-09T07:10:29.507234Z",
          "shell.execute_reply.started": "2025-09-09T07:10:29.496593Z",
          "shell.execute_reply": "2025-09-09T07:10:29.506391Z"
        },
        "id": "iq5eOs-ZLrDl"
      },
      "outputs": [],
      "execution_count": 6
    },
    {
      "cell_type": "code",
      "source": [
        "X"
      ],
      "metadata": {
        "trusted": true,
        "execution": {
          "iopub.status.busy": "2025-09-09T07:00:50.041598Z",
          "iopub.execute_input": "2025-09-09T07:00:50.041951Z",
          "iopub.status.idle": "2025-09-09T07:00:50.048386Z",
          "shell.execute_reply.started": "2025-09-09T07:00:50.041899Z",
          "shell.execute_reply": "2025-09-09T07:00:50.047305Z"
        },
        "id": "0afnOuYTLrDm",
        "outputId": "73bcbb19-d9e1-4350-fc0a-a7cb2733ab03"
      },
      "outputs": [
        {
          "execution_count": 118,
          "output_type": "execute_result",
          "data": {
            "text/plain": "array([[1.36000000e+03, 2.00000000e+00, 1.00000000e+00, ...,\n        5.99636640e-01, 0.00000000e+00, 5.00000000e+00],\n       [4.27200000e+03, 3.00000000e+00, 3.00000000e+00, ...,\n        4.75301385e+00, 1.00000000e+00, 6.00000000e+00],\n       [3.59200000e+03, 1.00000000e+00, 2.00000000e+00, ...,\n        3.63482272e+00, 0.00000000e+00, 9.00000000e+00],\n       ...,\n       [2.60600000e+03, 4.00000000e+00, 2.00000000e+00, ...,\n        4.05506679e+00, 0.00000000e+00, 2.00000000e+00],\n       [4.72300000e+03, 5.00000000e+00, 2.00000000e+00, ...,\n        1.93092148e+00, 0.00000000e+00, 7.00000000e+00],\n       [3.26800000e+03, 4.00000000e+00, 2.00000000e+00, ...,\n        3.10879025e+00, 2.00000000e+00, 2.00000000e+00]])"
          },
          "metadata": {}
        }
      ],
      "execution_count": null
    },
    {
      "cell_type": "markdown",
      "source": [
        "# Initializing weights\n"
      ],
      "metadata": {
        "id": "haAR4GggLrDn"
      }
    },
    {
      "cell_type": "code",
      "source": [
        "input_size = X_train.shape[1]\n",
        "hidden1_size = 64\n",
        "hidden2_size = 32\n",
        "output_size = 1"
      ],
      "metadata": {
        "trusted": true,
        "execution": {
          "iopub.status.busy": "2025-09-09T07:01:00.037016Z",
          "iopub.execute_input": "2025-09-09T07:01:00.037312Z",
          "iopub.status.idle": "2025-09-09T07:01:00.042233Z",
          "shell.execute_reply.started": "2025-09-09T07:01:00.037292Z",
          "shell.execute_reply": "2025-09-09T07:01:00.041299Z"
        },
        "id": "xS498W-eLrDo"
      },
      "outputs": [],
      "execution_count": 31
    },
    {
      "cell_type": "code",
      "source": [
        "import random\n",
        "\n",
        "W1 = np.random.randn(input_size,hidden1_size)*np.sqrt(2/input_size)\n",
        "b1 = np.zeros((1,hidden1_size))\n",
        "\n",
        "W2 = np.random.randn(hidden1_size,hidden2_size)*np.sqrt(2/hidden1_size)\n",
        "b2 = np.zeros((1,hidden2_size))\n",
        "\n",
        "W3 = np.random.randn(hidden2_size,output_size)*np.sqrt(2/hidden2_size)\n",
        "b3 = np.zeros((1,output_size))\n"
      ],
      "metadata": {
        "trusted": true,
        "execution": {
          "iopub.status.busy": "2025-09-09T07:11:17.897774Z",
          "iopub.execute_input": "2025-09-09T07:11:17.898155Z",
          "iopub.status.idle": "2025-09-09T07:11:17.904321Z",
          "shell.execute_reply.started": "2025-09-09T07:11:17.898128Z",
          "shell.execute_reply": "2025-09-09T07:11:17.903266Z"
        },
        "id": "pa0LiWXmLrDp"
      },
      "outputs": [],
      "execution_count": 19
    },
    {
      "cell_type": "code",
      "source": [
        "W3.shape"
      ],
      "metadata": {
        "trusted": true,
        "execution": {
          "iopub.status.busy": "2025-09-09T06:11:43.090029Z",
          "iopub.execute_input": "2025-09-09T06:11:43.090393Z",
          "iopub.status.idle": "2025-09-09T06:11:43.096283Z",
          "shell.execute_reply.started": "2025-09-09T06:11:43.090368Z",
          "shell.execute_reply": "2025-09-09T06:11:43.095533Z"
        },
        "id": "ii1-av65LrDp",
        "outputId": "8f59f59c-fcad-4aad-994d-b7b6ae535ba4"
      },
      "outputs": [
        {
          "execution_count": 85,
          "output_type": "execute_result",
          "data": {
            "text/plain": "(32, 1)"
          },
          "metadata": {}
        }
      ],
      "execution_count": null
    },
    {
      "cell_type": "markdown",
      "source": [
        "# Helping function"
      ],
      "metadata": {
        "id": "yvFKw4HKLrDq"
      }
    },
    {
      "cell_type": "code",
      "source": [
        "def relu(Z):\n",
        "    return np.maximum(0,Z)\n",
        "\n",
        "\n",
        "def relu_derivative(Z):\n",
        "    return (Z>0).astype(float)\n",
        "\n",
        "def mse(y_true,y_pred):\n",
        "    return np.mean((y_true - y_pred)** 2)\n",
        "\n",
        "def mse_derivative(y_true,y_pred):\n",
        "    return (2 * (y_pred - y_true)) / y_true.size\n",
        "\n",
        "def mean_absolute_percentage_error(y_true, y_pred):\n",
        "    return np.mean(np.abs((y_true - y_pred) / y_true)) * 100"
      ],
      "metadata": {
        "trusted": true,
        "execution": {
          "iopub.status.busy": "2025-09-09T07:11:20.720057Z",
          "iopub.execute_input": "2025-09-09T07:11:20.720401Z",
          "iopub.status.idle": "2025-09-09T07:11:20.727188Z",
          "shell.execute_reply.started": "2025-09-09T07:11:20.720375Z",
          "shell.execute_reply": "2025-09-09T07:11:20.725869Z"
        },
        "id": "qBofj0jGLrDq"
      },
      "outputs": [],
      "execution_count": 20
    },
    {
      "cell_type": "markdown",
      "source": [
        "# forward Propagation"
      ],
      "metadata": {
        "id": "OT7GbrTDLrDr"
      }
    },
    {
      "cell_type": "code",
      "source": [
        "def forward(X):\n",
        "    Z1 = X @ W1 + b1\n",
        "    A1 = relu(Z1)\n",
        "\n",
        "    Z2 = A1 @ W2 + b2\n",
        "    A2 = relu(Z2)\n",
        "\n",
        "    Z3 = A2 @ W3 + b3\n",
        "\n",
        "    cache = (Z1,A1,Z2,A2,Z3)\n",
        "\n",
        "    return Z3,cache"
      ],
      "metadata": {
        "trusted": true,
        "execution": {
          "iopub.status.busy": "2025-09-09T07:11:23.091640Z",
          "iopub.execute_input": "2025-09-09T07:11:23.092525Z",
          "iopub.status.idle": "2025-09-09T07:11:23.097168Z",
          "shell.execute_reply.started": "2025-09-09T07:11:23.092493Z",
          "shell.execute_reply": "2025-09-09T07:11:23.096265Z"
        },
        "id": "Q25Zi-xiLrDr"
      },
      "outputs": [],
      "execution_count": 21
    },
    {
      "cell_type": "markdown",
      "source": [
        "# Backward Propagation"
      ],
      "metadata": {
        "id": "5kjubtNVLrDr"
      }
    },
    {
      "cell_type": "code",
      "source": [
        "def backward(X,y,cache):\n",
        "    Z1,A1,Z2,A2,Z3 = cache\n",
        "    m = y.shape[0]\n",
        "\n",
        "    # output layer\n",
        "\n",
        "    dZ3 = mse_derivative(y,Z3)\n",
        "    dW3 = A2.T @ dZ3 / m\n",
        "    db3 = np.sum(dZ3,axis = 0,keepdims= True)/m\n",
        "\n",
        "    # hidden layer2\n",
        "\n",
        "    dA2 = dZ3 @ W3.T\n",
        "    dZ2 = dA2 * relu_derivative(Z2)\n",
        "    dW2 = A1.T @ dZ2 / m\n",
        "    db2 = np.sum(dZ2,axis = 0,keepdims = True) / m\n",
        "\n",
        "    # hidden layer1\n",
        "\n",
        "    dA1 = dZ2 @ W2.T\n",
        "    dZ1 = dA1 * relu_derivative(Z1)\n",
        "    dW1 = X.T @ dZ1 / m\n",
        "    db1 = np.sum(dZ1,axis = 0,keepdims = True) / m\n",
        "\n",
        "\n",
        "\n",
        "    return dW1, db1, dW2, db2, dW3, db3"
      ],
      "metadata": {
        "trusted": true,
        "execution": {
          "iopub.status.busy": "2025-09-09T07:11:25.630145Z",
          "iopub.execute_input": "2025-09-09T07:11:25.630467Z",
          "iopub.status.idle": "2025-09-09T07:11:25.637991Z",
          "shell.execute_reply.started": "2025-09-09T07:11:25.630442Z",
          "shell.execute_reply": "2025-09-09T07:11:25.636315Z"
        },
        "id": "C6AiwaA6LrDs"
      },
      "outputs": [],
      "execution_count": 11
    },
    {
      "cell_type": "markdown",
      "source": [
        "# Training loop"
      ],
      "metadata": {
        "id": "M6jzWSIALrDs"
      }
    },
    {
      "cell_type": "code",
      "source": [
        "epochs = 500\n",
        "lr = 0.01  # try larger LR\n",
        "\n",
        "for epoch in range(epochs):\n",
        "    # Forward pass\n",
        "    y_pred_scaled, cache = forward(X_train)\n",
        "\n",
        "    # Compute loss on scaled values\n",
        "    loss = mse(y_train_scaled, y_pred_scaled)\n",
        "\n",
        "    # Backward pass\n",
        "    dW1, db1, dW2, db2, dW3, db3 = backward(X_train, y_train_scaled, cache)\n",
        "\n",
        "    # Update weights\n",
        "    W1 -= lr * dW1\n",
        "    b1 -= lr * db1\n",
        "    W2 -= lr * dW2\n",
        "    b2 -= lr * db2\n",
        "    W3 -= lr * dW3\n",
        "    b3 -= lr * db3\n",
        "\n",
        "    # For reporting, compute MAPE in original scale\n",
        "    y_pred = scaler_y.inverse_transform(y_pred_scaled)\n",
        "    mape = mean_absolute_percentage_error(y_train, y_pred)\n",
        "\n",
        "    print(f\"Epoch {epoch+1}/{epochs}, MSE: {loss:.6f}, MAPE: {mape:.2f}%\")\n"
      ],
      "metadata": {
        "trusted": true,
        "execution": {
          "iopub.status.busy": "2025-09-09T07:14:10.349221Z",
          "iopub.execute_input": "2025-09-09T07:14:10.349543Z",
          "iopub.status.idle": "2025-09-09T07:14:11.296749Z",
          "shell.execute_reply.started": "2025-09-09T07:14:10.349520Z",
          "shell.execute_reply": "2025-09-09T07:14:11.295602Z"
        },
        "colab": {
          "base_uri": "https://localhost:8080/"
        },
        "collapsed": true,
        "id": "DKO4IqPtLrDt",
        "outputId": "930dd962-6ef5-4ba8-aa7d-05d4efc4b338"
      },
      "outputs": [
        {
          "output_type": "stream",
          "name": "stdout",
          "text": [
            "Epoch 1/500, MSE: 1.260611, MAPE: 44.40%\n",
            "Epoch 2/500, MSE: 1.260511, MAPE: 44.40%\n",
            "Epoch 3/500, MSE: 1.260411, MAPE: 44.40%\n",
            "Epoch 4/500, MSE: 1.260311, MAPE: 44.40%\n",
            "Epoch 5/500, MSE: 1.260211, MAPE: 44.40%\n",
            "Epoch 6/500, MSE: 1.260111, MAPE: 44.40%\n",
            "Epoch 7/500, MSE: 1.260012, MAPE: 44.40%\n",
            "Epoch 8/500, MSE: 1.259912, MAPE: 44.40%\n",
            "Epoch 9/500, MSE: 1.259812, MAPE: 44.40%\n",
            "Epoch 10/500, MSE: 1.259713, MAPE: 44.40%\n",
            "Epoch 11/500, MSE: 1.259613, MAPE: 44.40%\n",
            "Epoch 12/500, MSE: 1.259514, MAPE: 44.40%\n",
            "Epoch 13/500, MSE: 1.259414, MAPE: 44.40%\n",
            "Epoch 14/500, MSE: 1.259315, MAPE: 44.40%\n",
            "Epoch 15/500, MSE: 1.259215, MAPE: 44.40%\n",
            "Epoch 16/500, MSE: 1.259116, MAPE: 44.40%\n",
            "Epoch 17/500, MSE: 1.259016, MAPE: 44.40%\n",
            "Epoch 18/500, MSE: 1.258917, MAPE: 44.40%\n",
            "Epoch 19/500, MSE: 1.258818, MAPE: 44.40%\n",
            "Epoch 20/500, MSE: 1.258718, MAPE: 44.40%\n",
            "Epoch 21/500, MSE: 1.258619, MAPE: 44.40%\n",
            "Epoch 22/500, MSE: 1.258520, MAPE: 44.40%\n",
            "Epoch 23/500, MSE: 1.258421, MAPE: 44.40%\n",
            "Epoch 24/500, MSE: 1.258322, MAPE: 44.40%\n",
            "Epoch 25/500, MSE: 1.258222, MAPE: 44.40%\n",
            "Epoch 26/500, MSE: 1.258123, MAPE: 44.40%\n",
            "Epoch 27/500, MSE: 1.258024, MAPE: 44.40%\n",
            "Epoch 28/500, MSE: 1.257925, MAPE: 44.40%\n",
            "Epoch 29/500, MSE: 1.257826, MAPE: 44.40%\n",
            "Epoch 30/500, MSE: 1.257727, MAPE: 44.40%\n",
            "Epoch 31/500, MSE: 1.257629, MAPE: 44.40%\n",
            "Epoch 32/500, MSE: 1.257530, MAPE: 44.40%\n",
            "Epoch 33/500, MSE: 1.257431, MAPE: 44.40%\n",
            "Epoch 34/500, MSE: 1.257332, MAPE: 44.40%\n",
            "Epoch 35/500, MSE: 1.257233, MAPE: 44.40%\n",
            "Epoch 36/500, MSE: 1.257135, MAPE: 44.40%\n",
            "Epoch 37/500, MSE: 1.257036, MAPE: 44.40%\n",
            "Epoch 38/500, MSE: 1.256937, MAPE: 44.40%\n",
            "Epoch 39/500, MSE: 1.256839, MAPE: 44.40%\n",
            "Epoch 40/500, MSE: 1.256740, MAPE: 44.40%\n",
            "Epoch 41/500, MSE: 1.256641, MAPE: 44.40%\n",
            "Epoch 42/500, MSE: 1.256543, MAPE: 44.40%\n",
            "Epoch 43/500, MSE: 1.256444, MAPE: 44.40%\n",
            "Epoch 44/500, MSE: 1.256346, MAPE: 44.40%\n",
            "Epoch 45/500, MSE: 1.256248, MAPE: 44.40%\n",
            "Epoch 46/500, MSE: 1.256149, MAPE: 44.40%\n",
            "Epoch 47/500, MSE: 1.256051, MAPE: 44.40%\n",
            "Epoch 48/500, MSE: 1.255953, MAPE: 44.40%\n",
            "Epoch 49/500, MSE: 1.255854, MAPE: 44.40%\n",
            "Epoch 50/500, MSE: 1.255756, MAPE: 44.40%\n",
            "Epoch 51/500, MSE: 1.255658, MAPE: 44.40%\n",
            "Epoch 52/500, MSE: 1.255560, MAPE: 44.40%\n",
            "Epoch 53/500, MSE: 1.255462, MAPE: 44.40%\n",
            "Epoch 54/500, MSE: 1.255363, MAPE: 44.40%\n",
            "Epoch 55/500, MSE: 1.255265, MAPE: 44.40%\n",
            "Epoch 56/500, MSE: 1.255167, MAPE: 44.40%\n",
            "Epoch 57/500, MSE: 1.255069, MAPE: 44.40%\n",
            "Epoch 58/500, MSE: 1.254971, MAPE: 44.40%\n",
            "Epoch 59/500, MSE: 1.254873, MAPE: 44.40%\n",
            "Epoch 60/500, MSE: 1.254775, MAPE: 44.40%\n",
            "Epoch 61/500, MSE: 1.254678, MAPE: 44.40%\n",
            "Epoch 62/500, MSE: 1.254580, MAPE: 44.40%\n",
            "Epoch 63/500, MSE: 1.254482, MAPE: 44.41%\n",
            "Epoch 64/500, MSE: 1.254384, MAPE: 44.41%\n",
            "Epoch 65/500, MSE: 1.254286, MAPE: 44.41%\n",
            "Epoch 66/500, MSE: 1.254189, MAPE: 44.41%\n",
            "Epoch 67/500, MSE: 1.254091, MAPE: 44.41%\n",
            "Epoch 68/500, MSE: 1.253993, MAPE: 44.41%\n",
            "Epoch 69/500, MSE: 1.253896, MAPE: 44.41%\n",
            "Epoch 70/500, MSE: 1.253798, MAPE: 44.41%\n",
            "Epoch 71/500, MSE: 1.253701, MAPE: 44.41%\n",
            "Epoch 72/500, MSE: 1.253603, MAPE: 44.41%\n",
            "Epoch 73/500, MSE: 1.253506, MAPE: 44.41%\n",
            "Epoch 74/500, MSE: 1.253408, MAPE: 44.41%\n",
            "Epoch 75/500, MSE: 1.253311, MAPE: 44.41%\n",
            "Epoch 76/500, MSE: 1.253214, MAPE: 44.41%\n",
            "Epoch 77/500, MSE: 1.253116, MAPE: 44.41%\n",
            "Epoch 78/500, MSE: 1.253019, MAPE: 44.41%\n",
            "Epoch 79/500, MSE: 1.252922, MAPE: 44.41%\n",
            "Epoch 80/500, MSE: 1.252824, MAPE: 44.41%\n",
            "Epoch 81/500, MSE: 1.252727, MAPE: 44.41%\n",
            "Epoch 82/500, MSE: 1.252630, MAPE: 44.41%\n",
            "Epoch 83/500, MSE: 1.252533, MAPE: 44.41%\n",
            "Epoch 84/500, MSE: 1.252436, MAPE: 44.41%\n",
            "Epoch 85/500, MSE: 1.252339, MAPE: 44.41%\n",
            "Epoch 86/500, MSE: 1.252242, MAPE: 44.41%\n",
            "Epoch 87/500, MSE: 1.252145, MAPE: 44.41%\n",
            "Epoch 88/500, MSE: 1.252048, MAPE: 44.41%\n",
            "Epoch 89/500, MSE: 1.251951, MAPE: 44.41%\n",
            "Epoch 90/500, MSE: 1.251854, MAPE: 44.41%\n",
            "Epoch 91/500, MSE: 1.251757, MAPE: 44.41%\n",
            "Epoch 92/500, MSE: 1.251660, MAPE: 44.41%\n",
            "Epoch 93/500, MSE: 1.251564, MAPE: 44.41%\n",
            "Epoch 94/500, MSE: 1.251467, MAPE: 44.41%\n",
            "Epoch 95/500, MSE: 1.251370, MAPE: 44.41%\n",
            "Epoch 96/500, MSE: 1.251274, MAPE: 44.41%\n",
            "Epoch 97/500, MSE: 1.251177, MAPE: 44.41%\n",
            "Epoch 98/500, MSE: 1.251080, MAPE: 44.41%\n",
            "Epoch 99/500, MSE: 1.250984, MAPE: 44.41%\n",
            "Epoch 100/500, MSE: 1.250887, MAPE: 44.41%\n",
            "Epoch 101/500, MSE: 1.250791, MAPE: 44.41%\n",
            "Epoch 102/500, MSE: 1.250694, MAPE: 44.41%\n",
            "Epoch 103/500, MSE: 1.250598, MAPE: 44.41%\n",
            "Epoch 104/500, MSE: 1.250501, MAPE: 44.41%\n",
            "Epoch 105/500, MSE: 1.250405, MAPE: 44.41%\n",
            "Epoch 106/500, MSE: 1.250309, MAPE: 44.41%\n",
            "Epoch 107/500, MSE: 1.250212, MAPE: 44.41%\n",
            "Epoch 108/500, MSE: 1.250116, MAPE: 44.41%\n",
            "Epoch 109/500, MSE: 1.250020, MAPE: 44.41%\n",
            "Epoch 110/500, MSE: 1.249923, MAPE: 44.41%\n",
            "Epoch 111/500, MSE: 1.249827, MAPE: 44.41%\n",
            "Epoch 112/500, MSE: 1.249731, MAPE: 44.41%\n",
            "Epoch 113/500, MSE: 1.249635, MAPE: 44.41%\n",
            "Epoch 114/500, MSE: 1.249539, MAPE: 44.41%\n",
            "Epoch 115/500, MSE: 1.249443, MAPE: 44.41%\n",
            "Epoch 116/500, MSE: 1.249347, MAPE: 44.41%\n",
            "Epoch 117/500, MSE: 1.249251, MAPE: 44.41%\n",
            "Epoch 118/500, MSE: 1.249155, MAPE: 44.41%\n",
            "Epoch 119/500, MSE: 1.249059, MAPE: 44.41%\n",
            "Epoch 120/500, MSE: 1.248963, MAPE: 44.41%\n",
            "Epoch 121/500, MSE: 1.248867, MAPE: 44.41%\n",
            "Epoch 122/500, MSE: 1.248771, MAPE: 44.41%\n",
            "Epoch 123/500, MSE: 1.248676, MAPE: 44.41%\n",
            "Epoch 124/500, MSE: 1.248580, MAPE: 44.41%\n",
            "Epoch 125/500, MSE: 1.248484, MAPE: 44.41%\n",
            "Epoch 126/500, MSE: 1.248388, MAPE: 44.41%\n",
            "Epoch 127/500, MSE: 1.248293, MAPE: 44.41%\n",
            "Epoch 128/500, MSE: 1.248197, MAPE: 44.41%\n",
            "Epoch 129/500, MSE: 1.248101, MAPE: 44.41%\n",
            "Epoch 130/500, MSE: 1.248006, MAPE: 44.41%\n",
            "Epoch 131/500, MSE: 1.247910, MAPE: 44.41%\n",
            "Epoch 132/500, MSE: 1.247815, MAPE: 44.41%\n",
            "Epoch 133/500, MSE: 1.247719, MAPE: 44.41%\n",
            "Epoch 134/500, MSE: 1.247624, MAPE: 44.41%\n",
            "Epoch 135/500, MSE: 1.247528, MAPE: 44.41%\n",
            "Epoch 136/500, MSE: 1.247433, MAPE: 44.41%\n",
            "Epoch 137/500, MSE: 1.247338, MAPE: 44.41%\n",
            "Epoch 138/500, MSE: 1.247242, MAPE: 44.41%\n",
            "Epoch 139/500, MSE: 1.247147, MAPE: 44.41%\n",
            "Epoch 140/500, MSE: 1.247052, MAPE: 44.41%\n",
            "Epoch 141/500, MSE: 1.246957, MAPE: 44.41%\n",
            "Epoch 142/500, MSE: 1.246861, MAPE: 44.41%\n",
            "Epoch 143/500, MSE: 1.246766, MAPE: 44.41%\n",
            "Epoch 144/500, MSE: 1.246671, MAPE: 44.41%\n",
            "Epoch 145/500, MSE: 1.246576, MAPE: 44.41%\n",
            "Epoch 146/500, MSE: 1.246481, MAPE: 44.41%\n",
            "Epoch 147/500, MSE: 1.246386, MAPE: 44.41%\n",
            "Epoch 148/500, MSE: 1.246291, MAPE: 44.41%\n",
            "Epoch 149/500, MSE: 1.246196, MAPE: 44.41%\n",
            "Epoch 150/500, MSE: 1.246101, MAPE: 44.41%\n",
            "Epoch 151/500, MSE: 1.246006, MAPE: 44.41%\n",
            "Epoch 152/500, MSE: 1.245911, MAPE: 44.41%\n",
            "Epoch 153/500, MSE: 1.245817, MAPE: 44.41%\n",
            "Epoch 154/500, MSE: 1.245722, MAPE: 44.41%\n",
            "Epoch 155/500, MSE: 1.245627, MAPE: 44.41%\n",
            "Epoch 156/500, MSE: 1.245532, MAPE: 44.41%\n",
            "Epoch 157/500, MSE: 1.245437, MAPE: 44.41%\n",
            "Epoch 158/500, MSE: 1.245343, MAPE: 44.41%\n",
            "Epoch 159/500, MSE: 1.245248, MAPE: 44.41%\n",
            "Epoch 160/500, MSE: 1.245154, MAPE: 44.41%\n",
            "Epoch 161/500, MSE: 1.245059, MAPE: 44.41%\n",
            "Epoch 162/500, MSE: 1.244964, MAPE: 44.41%\n",
            "Epoch 163/500, MSE: 1.244870, MAPE: 44.41%\n",
            "Epoch 164/500, MSE: 1.244775, MAPE: 44.41%\n",
            "Epoch 165/500, MSE: 1.244681, MAPE: 44.41%\n",
            "Epoch 166/500, MSE: 1.244587, MAPE: 44.41%\n",
            "Epoch 167/500, MSE: 1.244492, MAPE: 44.41%\n",
            "Epoch 168/500, MSE: 1.244398, MAPE: 44.41%\n",
            "Epoch 169/500, MSE: 1.244303, MAPE: 44.41%\n",
            "Epoch 170/500, MSE: 1.244209, MAPE: 44.41%\n",
            "Epoch 171/500, MSE: 1.244115, MAPE: 44.41%\n",
            "Epoch 172/500, MSE: 1.244021, MAPE: 44.41%\n",
            "Epoch 173/500, MSE: 1.243926, MAPE: 44.41%\n",
            "Epoch 174/500, MSE: 1.243832, MAPE: 44.41%\n",
            "Epoch 175/500, MSE: 1.243738, MAPE: 44.41%\n",
            "Epoch 176/500, MSE: 1.243644, MAPE: 44.41%\n",
            "Epoch 177/500, MSE: 1.243550, MAPE: 44.41%\n",
            "Epoch 178/500, MSE: 1.243456, MAPE: 44.41%\n",
            "Epoch 179/500, MSE: 1.243362, MAPE: 44.41%\n",
            "Epoch 180/500, MSE: 1.243268, MAPE: 44.41%\n",
            "Epoch 181/500, MSE: 1.243174, MAPE: 44.41%\n",
            "Epoch 182/500, MSE: 1.243080, MAPE: 44.41%\n",
            "Epoch 183/500, MSE: 1.242986, MAPE: 44.41%\n",
            "Epoch 184/500, MSE: 1.242892, MAPE: 44.41%\n",
            "Epoch 185/500, MSE: 1.242798, MAPE: 44.41%\n",
            "Epoch 186/500, MSE: 1.242705, MAPE: 44.41%\n",
            "Epoch 187/500, MSE: 1.242611, MAPE: 44.41%\n",
            "Epoch 188/500, MSE: 1.242517, MAPE: 44.41%\n",
            "Epoch 189/500, MSE: 1.242424, MAPE: 44.41%\n",
            "Epoch 190/500, MSE: 1.242330, MAPE: 44.41%\n",
            "Epoch 191/500, MSE: 1.242237, MAPE: 44.41%\n",
            "Epoch 192/500, MSE: 1.242143, MAPE: 44.41%\n",
            "Epoch 193/500, MSE: 1.242050, MAPE: 44.41%\n",
            "Epoch 194/500, MSE: 1.241957, MAPE: 44.41%\n",
            "Epoch 195/500, MSE: 1.241863, MAPE: 44.41%\n",
            "Epoch 196/500, MSE: 1.241770, MAPE: 44.41%\n",
            "Epoch 197/500, MSE: 1.241677, MAPE: 44.41%\n",
            "Epoch 198/500, MSE: 1.241583, MAPE: 44.41%\n",
            "Epoch 199/500, MSE: 1.241490, MAPE: 44.41%\n",
            "Epoch 200/500, MSE: 1.241397, MAPE: 44.41%\n",
            "Epoch 201/500, MSE: 1.241304, MAPE: 44.41%\n",
            "Epoch 202/500, MSE: 1.241211, MAPE: 44.41%\n",
            "Epoch 203/500, MSE: 1.241118, MAPE: 44.41%\n",
            "Epoch 204/500, MSE: 1.241025, MAPE: 44.41%\n",
            "Epoch 205/500, MSE: 1.240932, MAPE: 44.41%\n",
            "Epoch 206/500, MSE: 1.240839, MAPE: 44.41%\n",
            "Epoch 207/500, MSE: 1.240746, MAPE: 44.41%\n",
            "Epoch 208/500, MSE: 1.240653, MAPE: 44.41%\n",
            "Epoch 209/500, MSE: 1.240560, MAPE: 44.41%\n",
            "Epoch 210/500, MSE: 1.240467, MAPE: 44.41%\n",
            "Epoch 211/500, MSE: 1.240374, MAPE: 44.41%\n",
            "Epoch 212/500, MSE: 1.240281, MAPE: 44.41%\n",
            "Epoch 213/500, MSE: 1.240188, MAPE: 44.41%\n",
            "Epoch 214/500, MSE: 1.240096, MAPE: 44.41%\n",
            "Epoch 215/500, MSE: 1.240003, MAPE: 44.41%\n",
            "Epoch 216/500, MSE: 1.239910, MAPE: 44.41%\n",
            "Epoch 217/500, MSE: 1.239817, MAPE: 44.41%\n",
            "Epoch 218/500, MSE: 1.239725, MAPE: 44.41%\n",
            "Epoch 219/500, MSE: 1.239632, MAPE: 44.41%\n",
            "Epoch 220/500, MSE: 1.239540, MAPE: 44.41%\n",
            "Epoch 221/500, MSE: 1.239447, MAPE: 44.41%\n",
            "Epoch 222/500, MSE: 1.239354, MAPE: 44.41%\n",
            "Epoch 223/500, MSE: 1.239262, MAPE: 44.41%\n",
            "Epoch 224/500, MSE: 1.239170, MAPE: 44.41%\n",
            "Epoch 225/500, MSE: 1.239077, MAPE: 44.41%\n",
            "Epoch 226/500, MSE: 1.238985, MAPE: 44.41%\n",
            "Epoch 227/500, MSE: 1.238892, MAPE: 44.41%\n",
            "Epoch 228/500, MSE: 1.238800, MAPE: 44.41%\n",
            "Epoch 229/500, MSE: 1.238708, MAPE: 44.41%\n",
            "Epoch 230/500, MSE: 1.238615, MAPE: 44.41%\n",
            "Epoch 231/500, MSE: 1.238523, MAPE: 44.41%\n",
            "Epoch 232/500, MSE: 1.238431, MAPE: 44.41%\n",
            "Epoch 233/500, MSE: 1.238339, MAPE: 44.41%\n",
            "Epoch 234/500, MSE: 1.238247, MAPE: 44.41%\n",
            "Epoch 235/500, MSE: 1.238154, MAPE: 44.41%\n",
            "Epoch 236/500, MSE: 1.238062, MAPE: 44.41%\n",
            "Epoch 237/500, MSE: 1.237970, MAPE: 44.41%\n",
            "Epoch 238/500, MSE: 1.237878, MAPE: 44.41%\n",
            "Epoch 239/500, MSE: 1.237786, MAPE: 44.41%\n",
            "Epoch 240/500, MSE: 1.237694, MAPE: 44.41%\n",
            "Epoch 241/500, MSE: 1.237602, MAPE: 44.41%\n",
            "Epoch 242/500, MSE: 1.237510, MAPE: 44.41%\n",
            "Epoch 243/500, MSE: 1.237419, MAPE: 44.41%\n",
            "Epoch 244/500, MSE: 1.237327, MAPE: 44.41%\n",
            "Epoch 245/500, MSE: 1.237235, MAPE: 44.41%\n",
            "Epoch 246/500, MSE: 1.237143, MAPE: 44.41%\n",
            "Epoch 247/500, MSE: 1.237051, MAPE: 44.41%\n",
            "Epoch 248/500, MSE: 1.236960, MAPE: 44.41%\n",
            "Epoch 249/500, MSE: 1.236868, MAPE: 44.42%\n",
            "Epoch 250/500, MSE: 1.236776, MAPE: 44.42%\n",
            "Epoch 251/500, MSE: 1.236685, MAPE: 44.42%\n",
            "Epoch 252/500, MSE: 1.236593, MAPE: 44.42%\n",
            "Epoch 253/500, MSE: 1.236501, MAPE: 44.42%\n",
            "Epoch 254/500, MSE: 1.236410, MAPE: 44.42%\n",
            "Epoch 255/500, MSE: 1.236318, MAPE: 44.42%\n",
            "Epoch 256/500, MSE: 1.236227, MAPE: 44.42%\n",
            "Epoch 257/500, MSE: 1.236135, MAPE: 44.42%\n",
            "Epoch 258/500, MSE: 1.236044, MAPE: 44.42%\n",
            "Epoch 259/500, MSE: 1.235952, MAPE: 44.42%\n",
            "Epoch 260/500, MSE: 1.235861, MAPE: 44.42%\n",
            "Epoch 261/500, MSE: 1.235770, MAPE: 44.42%\n",
            "Epoch 262/500, MSE: 1.235678, MAPE: 44.42%\n",
            "Epoch 263/500, MSE: 1.235587, MAPE: 44.42%\n",
            "Epoch 264/500, MSE: 1.235495, MAPE: 44.42%\n",
            "Epoch 265/500, MSE: 1.235404, MAPE: 44.42%\n",
            "Epoch 266/500, MSE: 1.235313, MAPE: 44.42%\n",
            "Epoch 267/500, MSE: 1.235222, MAPE: 44.42%\n",
            "Epoch 268/500, MSE: 1.235130, MAPE: 44.42%\n",
            "Epoch 269/500, MSE: 1.235039, MAPE: 44.42%\n",
            "Epoch 270/500, MSE: 1.234948, MAPE: 44.42%\n",
            "Epoch 271/500, MSE: 1.234857, MAPE: 44.42%\n",
            "Epoch 272/500, MSE: 1.234766, MAPE: 44.42%\n",
            "Epoch 273/500, MSE: 1.234675, MAPE: 44.42%\n",
            "Epoch 274/500, MSE: 1.234584, MAPE: 44.42%\n",
            "Epoch 275/500, MSE: 1.234493, MAPE: 44.42%\n",
            "Epoch 276/500, MSE: 1.234402, MAPE: 44.42%\n",
            "Epoch 277/500, MSE: 1.234311, MAPE: 44.42%\n",
            "Epoch 278/500, MSE: 1.234220, MAPE: 44.42%\n",
            "Epoch 279/500, MSE: 1.234129, MAPE: 44.42%\n",
            "Epoch 280/500, MSE: 1.234038, MAPE: 44.42%\n",
            "Epoch 281/500, MSE: 1.233947, MAPE: 44.42%\n",
            "Epoch 282/500, MSE: 1.233857, MAPE: 44.42%\n",
            "Epoch 283/500, MSE: 1.233766, MAPE: 44.42%\n",
            "Epoch 284/500, MSE: 1.233675, MAPE: 44.42%\n",
            "Epoch 285/500, MSE: 1.233584, MAPE: 44.42%\n",
            "Epoch 286/500, MSE: 1.233494, MAPE: 44.42%\n",
            "Epoch 287/500, MSE: 1.233403, MAPE: 44.42%\n",
            "Epoch 288/500, MSE: 1.233312, MAPE: 44.42%\n",
            "Epoch 289/500, MSE: 1.233222, MAPE: 44.42%\n",
            "Epoch 290/500, MSE: 1.233131, MAPE: 44.42%\n",
            "Epoch 291/500, MSE: 1.233041, MAPE: 44.42%\n",
            "Epoch 292/500, MSE: 1.232950, MAPE: 44.42%\n",
            "Epoch 293/500, MSE: 1.232860, MAPE: 44.42%\n",
            "Epoch 294/500, MSE: 1.232769, MAPE: 44.42%\n",
            "Epoch 295/500, MSE: 1.232679, MAPE: 44.42%\n",
            "Epoch 296/500, MSE: 1.232589, MAPE: 44.42%\n",
            "Epoch 297/500, MSE: 1.232498, MAPE: 44.42%\n",
            "Epoch 298/500, MSE: 1.232408, MAPE: 44.42%\n",
            "Epoch 299/500, MSE: 1.232318, MAPE: 44.42%\n",
            "Epoch 300/500, MSE: 1.232228, MAPE: 44.42%\n",
            "Epoch 301/500, MSE: 1.232137, MAPE: 44.42%\n",
            "Epoch 302/500, MSE: 1.232047, MAPE: 44.42%\n",
            "Epoch 303/500, MSE: 1.231957, MAPE: 44.42%\n",
            "Epoch 304/500, MSE: 1.231867, MAPE: 44.42%\n",
            "Epoch 305/500, MSE: 1.231777, MAPE: 44.42%\n",
            "Epoch 306/500, MSE: 1.231687, MAPE: 44.42%\n",
            "Epoch 307/500, MSE: 1.231597, MAPE: 44.42%\n",
            "Epoch 308/500, MSE: 1.231507, MAPE: 44.42%\n",
            "Epoch 309/500, MSE: 1.231417, MAPE: 44.42%\n",
            "Epoch 310/500, MSE: 1.231327, MAPE: 44.42%\n",
            "Epoch 311/500, MSE: 1.231237, MAPE: 44.42%\n",
            "Epoch 312/500, MSE: 1.231147, MAPE: 44.42%\n",
            "Epoch 313/500, MSE: 1.231057, MAPE: 44.42%\n",
            "Epoch 314/500, MSE: 1.230967, MAPE: 44.42%\n",
            "Epoch 315/500, MSE: 1.230878, MAPE: 44.42%\n",
            "Epoch 316/500, MSE: 1.230788, MAPE: 44.42%\n",
            "Epoch 317/500, MSE: 1.230698, MAPE: 44.42%\n",
            "Epoch 318/500, MSE: 1.230608, MAPE: 44.42%\n",
            "Epoch 319/500, MSE: 1.230519, MAPE: 44.42%\n",
            "Epoch 320/500, MSE: 1.230429, MAPE: 44.42%\n",
            "Epoch 321/500, MSE: 1.230339, MAPE: 44.42%\n",
            "Epoch 322/500, MSE: 1.230250, MAPE: 44.42%\n",
            "Epoch 323/500, MSE: 1.230160, MAPE: 44.42%\n",
            "Epoch 324/500, MSE: 1.230071, MAPE: 44.42%\n",
            "Epoch 325/500, MSE: 1.229981, MAPE: 44.42%\n",
            "Epoch 326/500, MSE: 1.229892, MAPE: 44.42%\n",
            "Epoch 327/500, MSE: 1.229802, MAPE: 44.42%\n",
            "Epoch 328/500, MSE: 1.229713, MAPE: 44.42%\n",
            "Epoch 329/500, MSE: 1.229624, MAPE: 44.42%\n",
            "Epoch 330/500, MSE: 1.229534, MAPE: 44.42%\n",
            "Epoch 331/500, MSE: 1.229445, MAPE: 44.42%\n",
            "Epoch 332/500, MSE: 1.229356, MAPE: 44.42%\n",
            "Epoch 333/500, MSE: 1.229266, MAPE: 44.42%\n",
            "Epoch 334/500, MSE: 1.229177, MAPE: 44.42%\n",
            "Epoch 335/500, MSE: 1.229088, MAPE: 44.42%\n",
            "Epoch 336/500, MSE: 1.228999, MAPE: 44.42%\n",
            "Epoch 337/500, MSE: 1.228909, MAPE: 44.42%\n",
            "Epoch 338/500, MSE: 1.228820, MAPE: 44.42%\n",
            "Epoch 339/500, MSE: 1.228731, MAPE: 44.42%\n",
            "Epoch 340/500, MSE: 1.228642, MAPE: 44.42%\n",
            "Epoch 341/500, MSE: 1.228553, MAPE: 44.42%\n",
            "Epoch 342/500, MSE: 1.228464, MAPE: 44.42%\n",
            "Epoch 343/500, MSE: 1.228375, MAPE: 44.42%\n",
            "Epoch 344/500, MSE: 1.228286, MAPE: 44.42%\n",
            "Epoch 345/500, MSE: 1.228197, MAPE: 44.42%\n",
            "Epoch 346/500, MSE: 1.228108, MAPE: 44.42%\n",
            "Epoch 347/500, MSE: 1.228019, MAPE: 44.42%\n",
            "Epoch 348/500, MSE: 1.227930, MAPE: 44.42%\n",
            "Epoch 349/500, MSE: 1.227842, MAPE: 44.42%\n",
            "Epoch 350/500, MSE: 1.227753, MAPE: 44.42%\n",
            "Epoch 351/500, MSE: 1.227664, MAPE: 44.42%\n",
            "Epoch 352/500, MSE: 1.227575, MAPE: 44.42%\n",
            "Epoch 353/500, MSE: 1.227486, MAPE: 44.42%\n",
            "Epoch 354/500, MSE: 1.227398, MAPE: 44.42%\n",
            "Epoch 355/500, MSE: 1.227309, MAPE: 44.42%\n",
            "Epoch 356/500, MSE: 1.227220, MAPE: 44.42%\n",
            "Epoch 357/500, MSE: 1.227132, MAPE: 44.42%\n",
            "Epoch 358/500, MSE: 1.227043, MAPE: 44.42%\n",
            "Epoch 359/500, MSE: 1.226954, MAPE: 44.42%\n",
            "Epoch 360/500, MSE: 1.226866, MAPE: 44.42%\n",
            "Epoch 361/500, MSE: 1.226777, MAPE: 44.42%\n",
            "Epoch 362/500, MSE: 1.226689, MAPE: 44.42%\n",
            "Epoch 363/500, MSE: 1.226600, MAPE: 44.42%\n",
            "Epoch 364/500, MSE: 1.226512, MAPE: 44.42%\n",
            "Epoch 365/500, MSE: 1.226423, MAPE: 44.42%\n",
            "Epoch 366/500, MSE: 1.226335, MAPE: 44.42%\n",
            "Epoch 367/500, MSE: 1.226247, MAPE: 44.42%\n",
            "Epoch 368/500, MSE: 1.226158, MAPE: 44.42%\n",
            "Epoch 369/500, MSE: 1.226070, MAPE: 44.42%\n",
            "Epoch 370/500, MSE: 1.225982, MAPE: 44.42%\n",
            "Epoch 371/500, MSE: 1.225894, MAPE: 44.42%\n",
            "Epoch 372/500, MSE: 1.225805, MAPE: 44.42%\n",
            "Epoch 373/500, MSE: 1.225717, MAPE: 44.42%\n",
            "Epoch 374/500, MSE: 1.225629, MAPE: 44.42%\n",
            "Epoch 375/500, MSE: 1.225541, MAPE: 44.42%\n",
            "Epoch 376/500, MSE: 1.225453, MAPE: 44.42%\n",
            "Epoch 377/500, MSE: 1.225365, MAPE: 44.42%\n",
            "Epoch 378/500, MSE: 1.225277, MAPE: 44.42%\n",
            "Epoch 379/500, MSE: 1.225189, MAPE: 44.42%\n",
            "Epoch 380/500, MSE: 1.225101, MAPE: 44.42%\n",
            "Epoch 381/500, MSE: 1.225013, MAPE: 44.42%\n",
            "Epoch 382/500, MSE: 1.224925, MAPE: 44.42%\n",
            "Epoch 383/500, MSE: 1.224837, MAPE: 44.42%\n",
            "Epoch 384/500, MSE: 1.224749, MAPE: 44.42%\n",
            "Epoch 385/500, MSE: 1.224661, MAPE: 44.42%\n",
            "Epoch 386/500, MSE: 1.224573, MAPE: 44.42%\n",
            "Epoch 387/500, MSE: 1.224485, MAPE: 44.42%\n",
            "Epoch 388/500, MSE: 1.224398, MAPE: 44.42%\n",
            "Epoch 389/500, MSE: 1.224310, MAPE: 44.42%\n",
            "Epoch 390/500, MSE: 1.224222, MAPE: 44.42%\n",
            "Epoch 391/500, MSE: 1.224135, MAPE: 44.42%\n",
            "Epoch 392/500, MSE: 1.224047, MAPE: 44.42%\n",
            "Epoch 393/500, MSE: 1.223959, MAPE: 44.42%\n",
            "Epoch 394/500, MSE: 1.223872, MAPE: 44.42%\n",
            "Epoch 395/500, MSE: 1.223784, MAPE: 44.42%\n",
            "Epoch 396/500, MSE: 1.223697, MAPE: 44.42%\n",
            "Epoch 397/500, MSE: 1.223609, MAPE: 44.42%\n",
            "Epoch 398/500, MSE: 1.223521, MAPE: 44.42%\n",
            "Epoch 399/500, MSE: 1.223434, MAPE: 44.42%\n",
            "Epoch 400/500, MSE: 1.223346, MAPE: 44.42%\n",
            "Epoch 401/500, MSE: 1.223259, MAPE: 44.42%\n",
            "Epoch 402/500, MSE: 1.223171, MAPE: 44.42%\n",
            "Epoch 403/500, MSE: 1.223084, MAPE: 44.42%\n",
            "Epoch 404/500, MSE: 1.222997, MAPE: 44.42%\n",
            "Epoch 405/500, MSE: 1.222909, MAPE: 44.42%\n",
            "Epoch 406/500, MSE: 1.222822, MAPE: 44.42%\n",
            "Epoch 407/500, MSE: 1.222735, MAPE: 44.42%\n",
            "Epoch 408/500, MSE: 1.222648, MAPE: 44.42%\n",
            "Epoch 409/500, MSE: 1.222560, MAPE: 44.42%\n",
            "Epoch 410/500, MSE: 1.222473, MAPE: 44.42%\n",
            "Epoch 411/500, MSE: 1.222386, MAPE: 44.42%\n",
            "Epoch 412/500, MSE: 1.222299, MAPE: 44.42%\n",
            "Epoch 413/500, MSE: 1.222212, MAPE: 44.42%\n",
            "Epoch 414/500, MSE: 1.222125, MAPE: 44.42%\n",
            "Epoch 415/500, MSE: 1.222038, MAPE: 44.42%\n",
            "Epoch 416/500, MSE: 1.221951, MAPE: 44.42%\n",
            "Epoch 417/500, MSE: 1.221864, MAPE: 44.42%\n",
            "Epoch 418/500, MSE: 1.221777, MAPE: 44.42%\n",
            "Epoch 419/500, MSE: 1.221690, MAPE: 44.42%\n",
            "Epoch 420/500, MSE: 1.221603, MAPE: 44.42%\n",
            "Epoch 421/500, MSE: 1.221517, MAPE: 44.42%\n",
            "Epoch 422/500, MSE: 1.221430, MAPE: 44.42%\n",
            "Epoch 423/500, MSE: 1.221343, MAPE: 44.42%\n",
            "Epoch 424/500, MSE: 1.221256, MAPE: 44.42%\n",
            "Epoch 425/500, MSE: 1.221169, MAPE: 44.42%\n",
            "Epoch 426/500, MSE: 1.221083, MAPE: 44.42%\n",
            "Epoch 427/500, MSE: 1.220996, MAPE: 44.42%\n",
            "Epoch 428/500, MSE: 1.220909, MAPE: 44.42%\n",
            "Epoch 429/500, MSE: 1.220823, MAPE: 44.42%\n",
            "Epoch 430/500, MSE: 1.220736, MAPE: 44.42%\n",
            "Epoch 431/500, MSE: 1.220650, MAPE: 44.42%\n",
            "Epoch 432/500, MSE: 1.220563, MAPE: 44.42%\n",
            "Epoch 433/500, MSE: 1.220476, MAPE: 44.42%\n",
            "Epoch 434/500, MSE: 1.220390, MAPE: 44.42%\n",
            "Epoch 435/500, MSE: 1.220304, MAPE: 44.42%\n",
            "Epoch 436/500, MSE: 1.220217, MAPE: 44.42%\n",
            "Epoch 437/500, MSE: 1.220131, MAPE: 44.42%\n",
            "Epoch 438/500, MSE: 1.220044, MAPE: 44.42%\n",
            "Epoch 439/500, MSE: 1.219958, MAPE: 44.42%\n",
            "Epoch 440/500, MSE: 1.219872, MAPE: 44.42%\n",
            "Epoch 441/500, MSE: 1.219785, MAPE: 44.42%\n",
            "Epoch 442/500, MSE: 1.219699, MAPE: 44.42%\n",
            "Epoch 443/500, MSE: 1.219613, MAPE: 44.42%\n",
            "Epoch 444/500, MSE: 1.219527, MAPE: 44.42%\n",
            "Epoch 445/500, MSE: 1.219440, MAPE: 44.41%\n",
            "Epoch 446/500, MSE: 1.219354, MAPE: 44.41%\n",
            "Epoch 447/500, MSE: 1.219268, MAPE: 44.41%\n",
            "Epoch 448/500, MSE: 1.219182, MAPE: 44.41%\n",
            "Epoch 449/500, MSE: 1.219096, MAPE: 44.41%\n",
            "Epoch 450/500, MSE: 1.219010, MAPE: 44.41%\n",
            "Epoch 451/500, MSE: 1.218924, MAPE: 44.41%\n",
            "Epoch 452/500, MSE: 1.218838, MAPE: 44.41%\n",
            "Epoch 453/500, MSE: 1.218752, MAPE: 44.41%\n",
            "Epoch 454/500, MSE: 1.218666, MAPE: 44.41%\n",
            "Epoch 455/500, MSE: 1.218580, MAPE: 44.41%\n",
            "Epoch 456/500, MSE: 1.218494, MAPE: 44.41%\n",
            "Epoch 457/500, MSE: 1.218408, MAPE: 44.41%\n",
            "Epoch 458/500, MSE: 1.218322, MAPE: 44.41%\n",
            "Epoch 459/500, MSE: 1.218236, MAPE: 44.41%\n",
            "Epoch 460/500, MSE: 1.218151, MAPE: 44.41%\n",
            "Epoch 461/500, MSE: 1.218065, MAPE: 44.41%\n",
            "Epoch 462/500, MSE: 1.217979, MAPE: 44.41%\n",
            "Epoch 463/500, MSE: 1.217893, MAPE: 44.41%\n",
            "Epoch 464/500, MSE: 1.217808, MAPE: 44.41%\n",
            "Epoch 465/500, MSE: 1.217722, MAPE: 44.41%\n",
            "Epoch 466/500, MSE: 1.217636, MAPE: 44.41%\n",
            "Epoch 467/500, MSE: 1.217551, MAPE: 44.41%\n",
            "Epoch 468/500, MSE: 1.217465, MAPE: 44.41%\n",
            "Epoch 469/500, MSE: 1.217380, MAPE: 44.41%\n",
            "Epoch 470/500, MSE: 1.217294, MAPE: 44.41%\n",
            "Epoch 471/500, MSE: 1.217209, MAPE: 44.41%\n",
            "Epoch 472/500, MSE: 1.217123, MAPE: 44.41%\n",
            "Epoch 473/500, MSE: 1.217038, MAPE: 44.41%\n",
            "Epoch 474/500, MSE: 1.216952, MAPE: 44.41%\n",
            "Epoch 475/500, MSE: 1.216867, MAPE: 44.41%\n",
            "Epoch 476/500, MSE: 1.216782, MAPE: 44.41%\n",
            "Epoch 477/500, MSE: 1.216696, MAPE: 44.41%\n",
            "Epoch 478/500, MSE: 1.216611, MAPE: 44.41%\n",
            "Epoch 479/500, MSE: 1.216526, MAPE: 44.41%\n",
            "Epoch 480/500, MSE: 1.216440, MAPE: 44.41%\n",
            "Epoch 481/500, MSE: 1.216355, MAPE: 44.41%\n",
            "Epoch 482/500, MSE: 1.216270, MAPE: 44.41%\n",
            "Epoch 483/500, MSE: 1.216185, MAPE: 44.41%\n",
            "Epoch 484/500, MSE: 1.216100, MAPE: 44.41%\n",
            "Epoch 485/500, MSE: 1.216015, MAPE: 44.41%\n",
            "Epoch 486/500, MSE: 1.215929, MAPE: 44.41%\n",
            "Epoch 487/500, MSE: 1.215844, MAPE: 44.41%\n",
            "Epoch 488/500, MSE: 1.215759, MAPE: 44.41%\n",
            "Epoch 489/500, MSE: 1.215674, MAPE: 44.41%\n",
            "Epoch 490/500, MSE: 1.215589, MAPE: 44.41%\n",
            "Epoch 491/500, MSE: 1.215504, MAPE: 44.41%\n",
            "Epoch 492/500, MSE: 1.215419, MAPE: 44.41%\n",
            "Epoch 493/500, MSE: 1.215335, MAPE: 44.41%\n",
            "Epoch 494/500, MSE: 1.215250, MAPE: 44.41%\n",
            "Epoch 495/500, MSE: 1.215165, MAPE: 44.41%\n",
            "Epoch 496/500, MSE: 1.215080, MAPE: 44.41%\n",
            "Epoch 497/500, MSE: 1.214995, MAPE: 44.41%\n",
            "Epoch 498/500, MSE: 1.214910, MAPE: 44.41%\n",
            "Epoch 499/500, MSE: 1.214826, MAPE: 44.41%\n",
            "Epoch 500/500, MSE: 1.214741, MAPE: 44.41%\n"
          ]
        }
      ],
      "execution_count": 32
    },
    {
      "cell_type": "code",
      "source": [
        "y_test_pred_scaled, _ = forward(X_test)\n",
        "y_test_pred = scaler_y.inverse_transform(y_test_pred_scaled)\n",
        "\n",
        "# MSE and MAPE on test set\n",
        "test_mse = mse(y_test, y_test_pred)\n",
        "test_mape = mean_absolute_percentage_error(y_test, y_test_pred)\n",
        "\n",
        "print(f\"Test MSE: {test_mse:.2f}\")\n",
        "print(f\"Test MAPE: {test_mape:.2f}%\")\n"
      ],
      "metadata": {
        "trusted": true,
        "execution": {
          "iopub.status.busy": "2025-09-09T06:17:10.901076Z",
          "iopub.execute_input": "2025-09-09T06:17:10.901452Z",
          "iopub.status.idle": "2025-09-09T06:17:10.906695Z",
          "shell.execute_reply.started": "2025-09-09T06:17:10.901424Z",
          "shell.execute_reply": "2025-09-09T06:17:10.905547Z"
        },
        "colab": {
          "base_uri": "https://localhost:8080/"
        },
        "id": "aSmRqDtxLrDt",
        "outputId": "e107c186-d6fb-4ad7-c7f4-c9d4b267845b"
      },
      "outputs": [
        {
          "output_type": "stream",
          "name": "stdout",
          "text": [
            "Test MSE: 82405678305.63\n",
            "Test MAPE: 47.13%\n"
          ]
        }
      ],
      "execution_count": 33
    }
  ]
}